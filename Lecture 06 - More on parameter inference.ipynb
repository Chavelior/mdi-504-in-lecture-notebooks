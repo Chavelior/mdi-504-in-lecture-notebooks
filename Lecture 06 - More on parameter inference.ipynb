{
 "cells": [
  {
   "cell_type": "markdown",
   "metadata": {},
   "source": [
    "## Lecture 6 - More on Parameter inference\n",
    "\n",
    "We'll try to fit some data to a skew-normal distribution. We'll see how to estimate ML estimates of the three parameters of the skew-normal distribution using numerical optimization. We'll also explore the notion of bias and variance of an estimator."
   ]
  },
  {
   "cell_type": "code",
   "execution_count": 1,
   "metadata": {},
   "outputs": [],
   "source": [
    "# Import several libraries that we'll need\n",
    "\n",
    "# scipy.stats for various pdf implementations,\n",
    "# scipy.optimize to numerical calculate MLEs\n",
    "from scipy import stats, optimize\n",
    "# various entry-wise calculations\n",
    "import numpy as np\n",
    "# plotting\n",
    "import matplotlib.pyplot as plt"
   ]
  },
  {
   "cell_type": "markdown",
   "metadata": {},
   "source": [
    "We'll load our data file which contains samples of normalized nanoparticle radii:"
   ]
  },
  {
   "cell_type": "code",
   "execution_count": 38,
   "metadata": {},
   "outputs": [
    {
     "data": {
      "text/plain": [
       "(array([0.03955756, 0.01977878, 0.05933634, 0.05933634, 0.05933634,\n",
       "        0.19778779, 0.21756657, 0.53402704, 0.3757968 , 0.75159361,\n",
       "        0.90982384, 1.56252355, 1.56252355, 2.15588693, 2.45256862,\n",
       "        3.12504711, 2.67013519, 2.09655059, 0.77137239, 0.15823023]),\n",
       " array([0.40249074, 0.45304998, 0.50360922, 0.55416845, 0.60472769,\n",
       "        0.65528693, 0.70584617, 0.75640541, 0.80696464, 0.85752388,\n",
       "        0.90808312, 0.95864236, 1.00920159, 1.05976083, 1.11032007,\n",
       "        1.16087931, 1.21143855, 1.26199778, 1.31255702, 1.36311626,\n",
       "        1.4136755 ]),\n",
       " <a list of 20 Patch objects>)"
      ]
     },
     "execution_count": 38,
     "metadata": {},
     "output_type": "execute_result"
    },
    {
     "data": {
      "image/png": "[encoded data removed]",
      "text/plain": [
       "<Figure size 432x288 with 1 Axes>"
      ]
     },
     "metadata": {
      "needs_background": "light"
     },
     "output_type": "display_data"
    }
   ],
   "source": [
    "# Load data file\n",
    "R = np.loadtxt('np_radii.txt')\n",
    "\n",
    "# Plot histograms with 20 bins:\n",
    "plt.hist(R, bins=20, density=True)"
   ]
  },
  {
   "cell_type": "markdown",
   "metadata": {},
   "source": [
    "### Likelihood function for the skewed normal distribution\n",
    "\n",
    "The skewed normal distribution $SN(\\alpha, \\mu, \\sigma)$ has three parameters. For $R \\sim SN(\\alpha, \\mu, \\sigma)$ we'll let $f_R(r; \\theta)$ be the pdf of the skewed normal distribution.\n",
    "\n",
    "Recall that the log likelihood function for iid data $r_i, ..., r_n$ is given by:\n",
    "$$ \\ell(\\theta) = \\sum_{i=1}^n \\log f_R(r_i; \\theta).$$\n",
    "\n",
    "Below we'll define a python function that compute the log likelihood function"
   ]
  },
  {
   "cell_type": "code",
   "execution_count": 3,
   "metadata": {},
   "outputs": [],
   "source": [
    "# Define log likelihood function for the skewed normal distribution\n",
    "# - theta is a list with 3 elements: alpha, mu, sigma\n",
    "# - R is the list of data\n",
    "\n",
    "def log_likelihood(theta, R):\n",
    "    alpha = theta[0]\n",
    "    mu = theta[1]\n",
    "    sigma = theta[2]\n",
    "    \n",
    "    # evaluate the skew norm pdf for each element in R\n",
    "    # using the stats.skewnorm.pdf(data, alpha, mu, sigma) function\n",
    "    pdf_vals = stats.skewnorm.pdf(R, alpha, mu, sigma)\n",
    "    \n",
    "    # calculate log likelihood componentwise\n",
    "    ret_val = np.sum(np.log(pdf_vals))\n",
    "    \n",
    "    # return the log likelihood\n",
    "    return ret_val"
   ]
  },
  {
   "cell_type": "markdown",
   "metadata": {},
   "source": [
    "Once defined, we can try passing in example values of parameters alpha, mu and sigma. Try to see if you can find a set of parameters with large log likelihood. Let's stay within the following bounds:\n",
    "\n",
    "$$ \\alpha \\in [-7, 0],$$\n",
    "$$ \\mu \\in [0, 3], $$\n",
    "$$ \\sigma \\in [0.1, 3],$$\n",
    "\n",
    "How large a likelihood value can you get by trying random points?"
   ]
  },
  {
   "cell_type": "code",
   "execution_count": 4,
   "metadata": {},
   "outputs": [
    {
     "data": {
      "text/plain": [
       "-544.3203146907413"
      ]
     },
     "execution_count": 4,
     "metadata": {},
     "output_type": "execute_result"
    }
   ],
   "source": [
    "# lets calculate some likelihood values for various random guess of the parameters\n",
    "alpha = -5\n",
    "mu = 1.3\n",
    "sigma = 1\n",
    "\n",
    "theta = [alpha, mu, sigma]\n",
    "log_likelihood(theta, R)"
   ]
  },
  {
   "cell_type": "markdown",
   "metadata": {},
   "source": [
    "### Calling an optimization function\n",
    "\n",
    "We want to find the optimal value of $\\theta$, i.e. the one that maximizes likelihood. There are no closed-form formulas for this ML estimate of the parameters to the skew-normal distribution, so we have to find the optimal values numerically.\n",
    "\n",
    "We'll use the `scipy.optimize.minimize` function. The three main arguments this function takes are:\n",
    "\n",
    "1. The function to minimize: This must be the name of a **python function that takes in a single argument** \\theta as input.\n",
    "2. An initial guess of the optimal $\\theta$ value\n",
    "3. Bounds for each variable in $\\theta$.\n",
    "\n",
    "The first point is a bit tricky. We need to specify a python function that takes in a single argument and should be minimized. Instead, we defined a likelihood function above `log_likelihood` that takes in 2 arguments and we wish to maximize this. To quickly define a function that statisfies the requirements of `scipy.optimize.minimize`, we'll use a **lambda expression**, or sometimes called an **anonymous function** in other programming languages."
   ]
  },
  {
   "cell_type": "code",
   "execution_count": 5,
   "metadata": {},
   "outputs": [
    {
     "data": {
      "text/plain": [
       "828.8219098464408"
      ]
     },
     "execution_count": 5,
     "metadata": {},
     "output_type": "execute_result"
    }
   ],
   "source": [
    "# we want to use scipy.optimize.minimize function, but we need to \n",
    "# pass in as an argument the name of a function that takes the input values only \n",
    "# and not the data. We also want to negate it since we want to maximize a function.\n",
    "# To do this, we'll define an anonymous function\n",
    "\n",
    "LL = lambda t: -1.0*log_likelihood(t, R)\n",
    "\n",
    "## LL is a full-fledged python function that we can call. The way we defined it, it takes a single argument\n",
    "## and calculates the negative of the log likelihood function. Here R is the set of data we read in earlier.\n",
    "\n",
    "## Let's call it:\n",
    "theta = [-2, 1.2, 1]\n",
    "LL(theta)"
   ]
  },
  {
   "cell_type": "markdown",
   "metadata": {},
   "source": [
    "Now that we've defined a function of a single argument that we wish to minimize, we can call the `optimize.minimize function`"
   ]
  },
  {
   "cell_type": "code",
   "execution_count": 6,
   "metadata": {},
   "outputs": [],
   "source": [
    "theta_guess = [-2, 1.2, 1]\n",
    "theta_bounds = ((-7, 0), (0, 3), (0.1, 3))\n",
    "\n",
    "# perform the optimization\n",
    "res = optimize.minimize(LL, theta_guess, bounds = theta_bounds)"
   ]
  },
  {
   "cell_type": "code",
   "execution_count": 7,
   "metadata": {},
   "outputs": [
    {
     "name": "stdout",
     "output_type": "stream",
     "text": [
      "alpha_MLE = -5.74661014297758\n",
      "mu_MLE = 1.3090052746628307\n",
      "sigma_MLE = 0.25743751644792884\n",
      "Maximum log-likelihood = 508.5235041797873\n"
     ]
    }
   ],
   "source": [
    "# res is an object with several fields. The one we're interested in is called\n",
    "# res.x, which contains the optimal theta values.\n",
    "theta_MLE = res.x\n",
    "max_log_likelihood = log_likelihood(theta_MLE, R)\n",
    "\n",
    "alpha_MLE = theta_MLE[0]\n",
    "mu_MLE = theta_MLE[1]\n",
    "sigma_MLE = theta_MLE[2]\n",
    "\n",
    "print('alpha_MLE = ' + str(alpha_MLE))\n",
    "print('mu_MLE = ' + str(mu_MLE))\n",
    "print('sigma_MLE = ' + str(sigma_MLE))\n",
    "print('Maximum log-likelihood = ' + str(max_log_likelihood) )"
   ]
  },
  {
   "cell_type": "markdown",
   "metadata": {},
   "source": [
    "We can check how good a fit this is by plotting the histogram versus fitted pdf:"
   ]
  },
  {
   "cell_type": "code",
   "execution_count": 268,
   "metadata": {},
   "outputs": [
    {
     "data": {
      "text/plain": [
       "Text(0,0.5,'Frequency')"
      ]
     },
     "execution_count": 268,
     "metadata": {},
     "output_type": "execute_result"
    },
    {
     "data": {
      "image/png": "[encoded data removed]",
      "text/plain": [
       "<Figure size 432x288 with 1 Axes>"
      ]
     },
     "metadata": {
      "needs_background": "light"
     },
     "output_type": "display_data"
    }
   ],
   "source": [
    "# plot the pdf versus histogram\n",
    "\n",
    "# the space of radii to plot over\n",
    "r = np.linspace(0, 2.0, 100)\n",
    "\n",
    "# evaluate the skew normal pdf at ML estimates\n",
    "y = stats.skewnorm.pdf(r, alpha_MLE, mu_MLE, sigma_MLE)\n",
    "\n",
    "# plot pdf\n",
    "plt.plot(r, y)\n",
    "\n",
    "# plot histogram\n",
    "plt.hist(samples, density=True)\n",
    "\n",
    "plt.xlabel('r /<r>')\n",
    "plt.ylabel('Frequency')"
   ]
  },
  {
   "cell_type": "markdown",
   "metadata": {},
   "source": [
    "## Bias and Variance\n",
    "\n",
    "The ML estimates for $\\alpha$, $\\mu$ and $\\sigma$ all depend on what data we actually saw. **If we were to repeat the experiment again, we'd get different radii and hence different ML estimates of our parameters.** That is, we may think of the MLE - or any estimates - of the parameters as a kind of random variable.\n",
    "\n",
    "With this perspective, we may ask what distribution these random variables have. In order to do this, we need several data sets. Since we don't have several data sets, **we'll simulate them**.\n",
    "\n",
    "\n",
    "The strategy here is to:\n",
    "1. Sample observations from a fixed skew-normal distribution. This will be a simulated, or artificial data set.\n",
    "2. Use the artificial data set to calculate the ML estimate of our parameters\n",
    "3. Repeat this lots of times, over several artificial data sets to get a distribution on ML estimates.\n",
    "\n"
   ]
  },
  {
   "cell_type": "code",
   "execution_count": 8,
   "metadata": {},
   "outputs": [],
   "source": [
    "# Let's pretend these values are the true values\n",
    "alpha = alpha_MLE\n",
    "mu = mu_MLE\n",
    "sigma = sigma_MLE\n",
    "\n",
    "# The number of artificial data sets to consider\n",
    "# each data set gets 1 ML estimate for each parameter\n",
    "NUM_DATA_SETS = 100\n",
    "\n",
    "# The number of data points in each artificial data set\n",
    "NUM_POINTS_PER_DATA_SET = 100\n",
    "\n",
    "# some arrays to store the sequence of ML estimates of parameters\n",
    "# one entry per data set.\n",
    "alpha_MLE_vals = np.zeros(NUM_DATA_SETS)\n",
    "mu_MLE_vals = np.zeros(NUM_DATA_SETS)\n",
    "sigma_MLE_vals = np.zeros(NUM_DATA_SETS)\n",
    "\n",
    "# simulate \"NUM_DATA_SETS\" artificial data sets\n",
    "for i in range(NUM_DATA_SETS):\n",
    "    \n",
    "    # generate an artificial data set by sampling from the skew-normal distribution\n",
    "    sample_i = stats.skewnorm.rvs(alpha, mu, sigma, NUM_POINTS_PER_DATA_SET)\n",
    "\n",
    "    # define negative log likelihood wrt to this data\n",
    "    LL = lambda theta: -1.0*log_likelihood(theta, sample_i)\n",
    "\n",
    "    # optimize to get ML estimates of parameters\n",
    "    res = optimize.minimize(LL, [-2, 1.2, 1], bounds=((-7, 0), (0, 3), (0.1, 3)))\n",
    "    theta_MLE = res.x\n",
    "    \n",
    "    # save the ML estimates \n",
    "    alpha_MLE_vals[i] = theta_MLE[0]\n",
    "    mu_MLE_vals[i] = theta_MLE[1]\n",
    "    sigma_MLE_vals[i] = theta_MLE[2]\n"
   ]
  },
  {
   "cell_type": "markdown",
   "metadata": {},
   "source": [
    "Now lets look at the distributions for the various parameters. First we'll start with the $\\alpha$ parameter. Recall the true value (i.e. the value were were using to sample artificial data was $\\alpha = -5.75$."
   ]
  },
  {
   "cell_type": "code",
   "execution_count": 297,
   "metadata": {},
   "outputs": [
    {
     "name": "stdout",
     "output_type": "stream",
     "text": [
      "True value for alpha = -5.746612042440025\n",
      "Mean of alpha_MLE from sampling distribution = -5.784065441920948\n"
     ]
    },
    {
     "data": {
      "image/png": "[encoded data removed]",
      "text/plain": [
       "<Figure size 432x288 with 1 Axes>"
      ]
     },
     "metadata": {
      "needs_background": "light"
     },
     "output_type": "display_data"
    }
   ],
   "source": [
    "plt.hist(alpha_MLE_vals)\n",
    "\n",
    "print('True value for alpha = ' + str(alpha))\n",
    "print('Mean of alpha_MLE from sampling distribution = ' + str(np.mean(alpha_MLE_vals)))"
   ]
  },
  {
   "cell_type": "code",
   "execution_count": 298,
   "metadata": {},
   "outputs": [
    {
     "name": "stdout",
     "output_type": "stream",
     "text": [
      "True value for mu = 1.3090052566229706\n",
      "Mean of mu_MLE from sampling distribution = 1.304225212589224\n"
     ]
    },
    {
     "data": {
      "image/png": "[encoded data removed]",
      "text/plain": [
       "<Figure size 432x288 with 1 Axes>"
      ]
     },
     "metadata": {
      "needs_background": "light"
     },
     "output_type": "display_data"
    }
   ],
   "source": [
    "plt.hist(mu_MLE_vals)\n",
    "\n",
    "print('True value for mu = ' + str(mu))\n",
    "print('Mean of mu_MLE from sampling distribution = ' + str(np.mean(mu_MLE_vals)))"
   ]
  },
  {
   "cell_type": "code",
   "execution_count": 299,
   "metadata": {},
   "outputs": [
    {
     "name": "stdout",
     "output_type": "stream",
     "text": [
      "True value for sigma = 0.25743759182399323\n",
      "Mean of sigma_MLE from sampling distribution = 0.2536571078206856\n"
     ]
    },
    {
     "data": {
      "image/png": "[encoded data removed]",
      "text/plain": [
       "<Figure size 432x288 with 1 Axes>"
      ]
     },
     "metadata": {
      "needs_background": "light"
     },
     "output_type": "display_data"
    }
   ],
   "source": [
    "plt.hist(sigma_MLE_vals)\n",
    "\n",
    "print('True value for sigma = ' + str(sigma))\n",
    "print('Mean of sigma_MLE from sampling distribution = ' + str(np.mean(sigma_MLE_vals)))"
   ]
  },
  {
   "cell_type": "markdown",
   "metadata": {},
   "source": [
    "## Bayesian parameter inference\n",
    "\n",
    "Now we'll consider parameter inference from the Bayesian perspective. Recall from the slides that the posterior distribution for the parameter given data is the likelihood of the parameter times its prior:\n",
    "\n",
    "\n",
    "$$f_{\\Theta | X = x}(\\theta) = f_{X| \\Theta = \\theta}(x) \\cdot f_\\Theta(\\theta)$$\n",
    "\n",
    "We'll consider a single observation $x$ of a RV $X \\sim \\mathcal N(\\Theta, \\sigma^2)$ with unknown mean $\\Theta$. In the Bayesian perspective, since we don't know $\\Theta$, we'll treat it as a random variable as well, and assign in a prior distribution, $\\Theta \\sim \\mathcal N(a, b)$. We assume we know $\\sigma^2, a, b$.\n",
    "\n",
    "Let's compare the posterior distribution $f_{\\Theta | X = x}(\\theta)$ versus the prior distribution $f_{\\Theta}(\\theta)$.\n"
   ]
  },
  {
   "cell_type": "code",
   "execution_count": 302,
   "metadata": {},
   "outputs": [
    {
     "data": {
      "text/plain": [
       "[<matplotlib.lines.Line2D at 0x11f242a90>]"
      ]
     },
     "execution_count": 302,
     "metadata": {},
     "output_type": "execute_result"
    },
    {
     "data": {
      "image/png": "[encoded data removed]",
      "text/plain": [
       "<Figure size 432x288 with 1 Axes>"
      ]
     },
     "metadata": {
      "needs_background": "light"
     },
     "output_type": "display_data"
    }
   ],
   "source": [
    "# Define the domain over which to plot\n",
    "theta = np.linspace(0, 10, 100)\n",
    "\n",
    "# Define the prior distribution parameters\n",
    "a = 5\n",
    "b = 3\n",
    "\n",
    "# evaluate the prior distribution\n",
    "prior_theta = stats.norm.pdf(theta, a, b)\n",
    "\n",
    "plt.plot(theta, prior_theta)\n"
   ]
  },
  {
   "cell_type": "code",
   "execution_count": 304,
   "metadata": {},
   "outputs": [
    {
     "data": {
      "text/plain": [
       "[<matplotlib.lines.Line2D at 0x11f3591d0>]"
      ]
     },
     "execution_count": 304,
     "metadata": {},
     "output_type": "execute_result"
    },
    {
     "data": {
      "image/png": "[encoded data removed]",
      "text/plain": [
       "<Figure size 432x288 with 1 Axes>"
      ]
     },
     "metadata": {
      "needs_background": "light"
     },
     "output_type": "display_data"
    }
   ],
   "source": [
    "# Here, x is an \"observation\" of the RV X. Let's pretend we observed x = 8\n",
    "x = 8\n",
    "\n",
    "# We'll set sigma = 1\n",
    "sigma = 1\n",
    "\n",
    "# calculate the likelihood\n",
    "likelihood_theta = stats.norm.pdf(x-theta, 0, sigma)\n",
    "\n",
    "# calculate the posterior (unnormalized)\n",
    "posterior_theta = likelihood_theta*prior_theta\n",
    "\n",
    "# plot the posterior\n",
    "plt.plot(theta, posterior_theta)"
   ]
  },
  {
   "cell_type": "code",
   "execution_count": null,
   "metadata": {},
   "outputs": [],
   "source": [
    "# Play around with X, sigma. \n",
    "# What do they represent?"
   ]
  },
  {
   "cell_type": "code",
   "execution_count": 37,
   "metadata": {},
   "outputs": [
    {
     "data": {
      "text/plain": [
       "array([6.4856918 , 1.19556299, 1.07618929, 1.19946213, 0.91441917,\n",
       "       1.28712213, 1.20492297, 1.29470598, 1.26188747, 1.01624306,\n",
       "       1.20558936, 1.2444335 , 1.20447212, 1.10041643, 1.13302522,\n",
       "       0.78005908, 1.18291769, 1.06789371, 1.04686963, 1.14216798,\n",
       "       0.92032682, 1.34611132, 1.1517804 , 1.18994501, 1.13839598,\n",
       "       0.91383166, 1.31644139, 1.23679238, 1.12913055, 0.9610382 ,\n",
       "       0.86726504, 1.11359063, 1.07403049, 1.15884913, 1.14549945,\n",
       "       1.3249777 , 0.76627218, 1.23137785, 0.9925694 , 1.15861206,\n",
       "       1.07469101, 1.16066894, 1.16260284, 1.29720975, 1.15926362,\n",
       "       1.18441817, 1.1838899 , 1.0407966 , 1.28254116, 1.27209714,\n",
       "       1.25566644, 0.95492958, 1.25812991, 0.96761903, 1.12082034,\n",
       "       1.19371235, 1.24956051, 1.13633703, 1.09504833, 1.16304178,\n",
       "       0.97280237, 1.14318067, 1.12800618, 1.11963133, 1.03405634,\n",
       "       1.29770577, 1.22786013, 0.96321301, 1.1255914 , 1.24459516,\n",
       "       0.97629373, 1.05503786, 0.70646539, 1.05531594, 1.13033596,\n",
       "       1.05850731, 0.89011573, 1.10700059, 1.23504986, 1.34750197,\n",
       "       1.11979123, 1.11820309, 1.17489277, 1.01804602, 0.75250228,\n",
       "       1.27721085, 0.93489814, 1.23335593, 1.16168849, 1.19258248,\n",
       "       1.04287008, 1.22687781, 1.176981  , 1.12156619, 1.14402035,\n",
       "       1.25927807, 0.75807356, 1.19953531, 0.94499348, 0.99684551,\n",
       "       1.19471503, 0.78560873, 1.18603769, 1.2632669 , 0.88653032,\n",
       "       0.94452416, 0.85845766, 0.7284888 , 1.17912153, 1.1370219 ,\n",
       "       1.33549664, 0.63267999, 1.30881188, 1.15049676, 1.22787118,\n",
       "       1.14556373, 1.00276473, 1.09534586, 1.27495883, 1.24035151,\n",
       "       1.38560667, 1.25693781, 1.21407042, 1.09108202, 0.5848257 ,\n",
       "       1.12696297, 1.17258133, 0.93613639, 1.20276344, 1.05207391,\n",
       "       1.03086004, 1.26624314, 1.16176049, 1.14280169, 1.09466519,\n",
       "       0.95586465, 1.21291599, 1.27530155, 1.26861938, 0.99027398,\n",
       "       0.85497455, 1.29492399, 0.9341539 , 0.88351011, 1.19728652,\n",
       "       1.23776694, 1.08229698, 1.30158432, 1.27032609, 1.24606444,\n",
       "       0.97186605, 1.29474442, 0.98587689, 1.20106154, 1.2452505 ,\n",
       "       0.78577096, 1.00641798, 1.09935335, 1.2625412 , 0.94084143,\n",
       "       1.13932118, 1.25744422, 1.16134776, 1.30509169, 0.96228853,\n",
       "       1.2150622 , 1.14908554, 1.07382528, 1.23811761, 1.00654499,\n",
       "       1.19747645, 1.21531233, 1.07876713, 1.0728475 , 0.95797339,\n",
       "       1.25337562, 1.17412803, 1.27526897, 0.89840024, 0.76204252,\n",
       "       1.11970371, 1.03723045, 1.15230556, 1.06354751, 1.32428144,\n",
       "       1.19402847, 1.13833206, 0.54531801, 1.19223314, 0.8106749 ,\n",
       "       1.3036805 , 1.20252409, 0.92711698, 0.969272  , 1.20833784,\n",
       "       0.85889402, 1.17655738, 1.07029136, 1.32520391, 1.01058451,\n",
       "       1.0822442 , 1.15829151, 0.96471159, 1.24428257, 1.15426699,\n",
       "       0.77263022, 1.20752525, 0.92255859, 1.13670699, 1.31517444,\n",
       "       1.28899594, 1.13391235, 1.30655748, 1.0995983 , 0.7871068 ,\n",
       "       1.1956802 , 1.16070224, 1.3159113 , 1.06964646, 1.2529251 ,\n",
       "       1.23571685, 1.16425765, 1.01380934, 1.08461278, 1.24235214,\n",
       "       1.4136755 , 1.00012493, 1.11491067, 1.12415131, 1.0799655 ,\n",
       "       0.69958087, 1.33224485, 0.76626291, 1.15316158, 1.16792068,\n",
       "       1.16414127, 0.85099081, 1.24505369, 1.14670537, 1.28161472,\n",
       "       0.91425273, 0.86420292, 1.12188194, 1.2700001 , 0.93874728,\n",
       "       1.19127596, 0.71166849, 1.13700653, 1.13639307, 1.29162261,\n",
       "       1.04470853, 1.19432786, 1.17572039, 0.93069615, 0.97607127,\n",
       "       1.29095229, 1.31045099, 1.18687348, 0.97291467, 1.24657755,\n",
       "       1.18862362, 0.82112652, 1.21709893, 1.23975533, 1.14011216,\n",
       "       1.24427553, 1.03873038, 1.17499131, 0.93009413, 0.68867914,\n",
       "       1.09536052, 1.28214771, 1.2131604 , 1.12894137, 1.24505566,\n",
       "       1.20380599, 0.942063  , 1.07597451, 1.18631007, 1.17541473,\n",
       "       1.14222665, 0.82807102, 1.28325331, 1.09536305, 1.32941858,\n",
       "       1.26602449, 1.10352078, 1.16903752, 1.18119797, 0.74694239,\n",
       "       1.23143717, 1.21799009, 1.1532893 , 1.25014438, 0.69722173,\n",
       "       1.13150394, 1.27398172, 1.06741205, 1.22442246, 1.1208971 ,\n",
       "       1.10732594, 1.26569045, 1.07386643, 1.22868245, 1.02527708,\n",
       "       1.06604944, 0.9216846 , 0.78175768, 1.27697877, 1.11733658,\n",
       "       1.37282429, 1.33316333, 1.25188921, 1.27030223, 1.07117788,\n",
       "       1.23950816, 1.25533263, 0.54936832, 1.16639346, 1.17995392,\n",
       "       0.87957485, 1.22691942, 1.08612188, 1.06781691, 1.21521272,\n",
       "       1.26464254, 1.15318173, 1.16110883, 1.24037255, 1.31236896,\n",
       "       1.18152885, 1.17592897, 1.22366583, 1.20247319, 0.95320077,\n",
       "       1.27665665, 1.26887607, 1.17914182, 1.00881371, 1.25196588,\n",
       "       1.1646333 , 1.26555236, 1.12819881, 1.27377874, 1.18383712,\n",
       "       0.7011209 , 0.98200016, 1.09995914, 1.30134828, 1.22347285,\n",
       "       1.00853914, 0.76837936, 1.15369928, 1.17212039, 1.13420157,\n",
       "       1.20035197, 1.09847875, 1.28782741, 1.04969218, 1.16132385,\n",
       "       1.26964208, 1.00381018, 0.7895882 , 0.88164596, 1.10637416,\n",
       "       1.23226428, 0.77498485, 1.32264642, 0.88621861, 1.36979247,\n",
       "       1.11750629, 1.18514988, 1.09887588, 0.99194787, 1.35923026,\n",
       "       1.21038725, 1.15787995, 1.01281217, 1.2630059 , 0.87772735,\n",
       "       0.60250135, 0.96739229, 1.18545297, 1.24601543, 1.25651783,\n",
       "       1.00085123, 0.94732119, 1.23587333, 0.99075338, 1.07560865,\n",
       "       1.04030767, 1.27689731, 1.27964956, 0.95315423, 1.17518363,\n",
       "       0.6601668 , 1.22460718, 1.1736257 , 1.15807965, 0.94635581,\n",
       "       1.1872541 , 1.3065247 , 1.21020623, 1.07863713, 0.87538402,\n",
       "       1.11105792, 1.21206115, 0.97634731, 1.32904017, 1.04943554,\n",
       "       0.98049372, 1.09589835, 1.23227947, 1.20774044, 1.22962799,\n",
       "       1.24275793, 1.18176126, 1.31113634, 0.76626179, 1.12976835,\n",
       "       1.33541346, 0.93478557, 1.19034702, 0.8626792 , 1.13224503,\n",
       "       1.26110972, 1.20386655, 0.65300077, 1.29975966, 1.28766001,\n",
       "       1.23880083, 1.16428928, 0.88241854, 1.30968788, 1.0298036 ,\n",
       "       0.81848099, 1.31527088, 1.240515  , 1.01754532, 1.21466453,\n",
       "       1.10671239, 1.21033068, 0.93581133, 1.02736201, 1.32141543,\n",
       "       1.08914856, 1.01323053, 0.6844253 , 1.28251505, 0.85236811,\n",
       "       1.09632343, 1.32801068, 1.14225943, 1.15308308, 1.21538453,\n",
       "       1.2675477 , 1.2205233 , 1.10469771, 1.12121315, 0.99628448,\n",
       "       1.09262743, 1.15695375, 1.25838374, 1.15230753, 1.19078356,\n",
       "       1.08248329, 1.19211612, 1.2544713 , 0.77812701, 1.09887218,\n",
       "       0.78362368, 1.37721715, 0.86842407, 0.98770397, 1.15754121,\n",
       "       1.16151291, 1.34772098, 1.04645189, 1.18935792, 1.1730362 ,\n",
       "       1.06975671, 0.95448516, 1.08033172, 1.31820363, 1.23915703,\n",
       "       1.21519393, 1.07928828, 1.13194284, 1.15106546, 0.89008364,\n",
       "       1.26999907, 1.33651895, 1.29155071, 1.15729093, 0.99700484,\n",
       "       0.96864456, 1.35438281, 1.15803538, 1.24465   , 1.00425966,\n",
       "       1.18318863, 0.86544287, 1.16506884, 1.0409314 , 1.30667698,\n",
       "       0.89182308, 0.76189685, 1.30187512, 0.94971188, 1.10259001,\n",
       "       1.02118202, 1.26559543, 0.8720347 , 1.20889587, 1.30214686,\n",
       "       1.25667121, 1.3134733 , 0.85769046, 0.88374226, 1.24906761,\n",
       "       1.17154741, 0.71352892, 1.05162557, 1.10363039, 1.24149732,\n",
       "       1.13119479, 1.06992983, 1.00337424, 1.03386938, 0.80642072,\n",
       "       0.89947186, 0.88220486, 1.2773043 , 1.10189422, 0.99427765,\n",
       "       0.91562302, 1.25272484, 1.05954312, 0.89699515, 1.16645441,\n",
       "       1.30684071, 1.0343493 , 1.23079214, 1.16326064, 0.97630629,\n",
       "       1.01173267, 1.16575785, 1.15758722, 1.07870598, 0.83838652,\n",
       "       1.2505022 , 1.01515444, 1.04833188, 1.30295695, 1.25645701,\n",
       "       1.16040729, 1.06567479, 0.89857472, 1.29269861, 0.83458317,\n",
       "       0.92230527, 1.24482893, 0.9363562 , 1.0790079 , 0.99712475,\n",
       "       1.28061851, 1.32292972, 1.29961367, 1.20583725, 1.35667507,\n",
       "       1.04025316, 0.84257267, 1.21833442, 1.04629301, 1.08361596,\n",
       "       0.96464059, 1.20661231, 1.1081437 , 1.22441441, 1.0565113 ,\n",
       "       1.15719126, 1.16819854, 0.93142583, 1.09061661, 1.03047049,\n",
       "       1.05029913, 1.21982923, 1.16954669, 1.26409687, 1.26893516,\n",
       "       1.19352389, 0.96023802, 1.07744589, 1.21270011, 1.17210873,\n",
       "       1.06295204, 1.22643302, 1.10199797, 1.25836575, 0.76807945,\n",
       "       1.21458189, 1.15300757, 1.1705885 , 1.02621407, 1.15431438,\n",
       "       1.15533128, 1.22050431, 0.90554273, 1.12395814, 1.08479705,\n",
       "       1.20200749, 1.20709984, 1.0434844 , 1.19070495, 1.28930914,\n",
       "       1.32331814, 0.97605443, 1.00913365, 0.5866732 , 1.33904086,\n",
       "       0.88742307, 1.29800832, 0.88707187, 1.22252345, 1.06000731,\n",
       "       1.17230972, 1.22810055, 1.00212076, 0.94807764, 0.72691833,\n",
       "       1.01387897, 1.04554337, 1.02830154, 1.29839379, 0.99051227,\n",
       "       1.20088674, 0.93753107, 1.18610987, 1.21760439, 0.91922385,\n",
       "       1.11626033, 1.14475749, 0.97937976, 0.68070765, 1.19733919,\n",
       "       1.07098839, 1.19714277, 1.10573242, 1.21658045, 1.30489395,\n",
       "       1.0298009 , 1.34703752, 1.16468269, 1.25988927, 0.9987213 ,\n",
       "       0.82439822, 0.97912213, 1.05268944, 1.14423204, 1.25585509,\n",
       "       0.99372314, 0.96810015, 1.05647432, 0.83581123, 1.13870601,\n",
       "       1.27442485, 1.11743984, 1.23908415, 1.16995231, 0.78394149,\n",
       "       1.12260255, 1.17868765, 1.16705847, 0.90966534, 0.90436162,\n",
       "       1.13637051, 1.27153255, 1.07248495, 1.13087025, 1.07032885,\n",
       "       1.11798369, 1.0177348 , 1.10880196, 0.97324388, 0.99803778,\n",
       "       1.17932258, 1.16771036, 1.15744673, 1.2792452 , 1.07011209,\n",
       "       1.28543728, 1.14103129, 1.2565272 , 0.9760831 , 1.0290834 ,\n",
       "       1.0224308 , 1.2332661 , 1.02828588, 0.99788412, 1.20298239,\n",
       "       1.17855798, 1.19637871, 1.28306348, 1.20716704, 0.97725973,\n",
       "       0.90243229, 1.28733912, 1.0989563 , 1.18405124, 1.19332472,\n",
       "       1.17879701, 1.20726954, 1.29274808, 1.10015771, 1.2901188 ,\n",
       "       1.0843926 , 1.11880186, 0.96689567, 0.97483241, 1.20447534,\n",
       "       1.21618043, 1.21156872, 1.38181332, 0.95684756, 0.98347488,\n",
       "       0.87518854, 0.88960941, 1.29016231, 0.9729837 , 1.04184153,\n",
       "       1.17384252, 1.03381525, 0.8893047 , 1.07686997, 1.08901622,\n",
       "       1.02159067, 0.52789662, 1.13920821, 0.67713385, 0.90553364,\n",
       "       1.17383863, 1.20469689, 1.31267766, 1.14229928, 1.21204894,\n",
       "       0.68937875, 1.10110532, 0.96108599, 1.22866941, 1.18124811,\n",
       "       1.18826797, 1.09684129, 1.1528561 , 0.8539688 , 1.02038333,\n",
       "       1.08690706, 0.93930001, 1.05766157, 0.74535961, 1.25507147,\n",
       "       1.31234004, 1.119343  , 1.01287372, 1.16217056, 1.05846134,\n",
       "       0.77976094, 1.22675618, 1.27978616, 1.10188795, 1.1148072 ,\n",
       "       0.83692972, 0.97175481, 1.08361185, 1.13580638, 1.20509046,\n",
       "       1.04171214, 1.07552152, 0.92077134, 1.0307535 , 1.26446493,\n",
       "       1.22811061, 1.08694069, 1.17287407, 0.96501743, 1.24161604,\n",
       "       1.0879232 , 0.70701756, 1.04341786, 1.1557286 , 1.09378326,\n",
       "       1.1426186 , 0.96950529, 1.18508449, 1.0994247 , 1.24736189,\n",
       "       1.31902138, 1.17257384, 1.0577926 , 1.37793493, 1.19972919,\n",
       "       1.06129522, 1.26634696, 1.1537457 , 1.1083155 , 1.15676975,\n",
       "       1.16565876, 0.91108917, 0.77952848, 1.12827852, 1.24332162,\n",
       "       1.15067295, 1.28470922, 1.24468426, 0.93569582, 1.32895286,\n",
       "       1.24289935, 0.96484187, 0.89329396, 1.30669955, 1.07356935,\n",
       "       1.13173243, 1.37794091, 0.91421522, 1.1055079 , 1.1182904 ,\n",
       "       1.21644188, 1.04914122, 1.28720783, 1.21812265, 0.94130134,\n",
       "       1.23276978, 1.2330424 , 1.12906621, 1.34495893, 1.00648302,\n",
       "       1.00337964, 1.0029997 , 1.16140153, 1.08730391, 0.97665207,\n",
       "       1.0514871 , 1.02308341, 1.25518209, 0.70042041, 1.202547  ,\n",
       "       1.19143737, 1.26344266, 0.73192838, 1.14675152, 1.18918635,\n",
       "       1.19027785, 0.97269108, 1.32865235, 1.32700873, 1.17051955,\n",
       "       1.28953966, 1.20972407, 1.17112743, 1.19202272, 1.26081887,\n",
       "       1.15183585, 0.84120894, 1.1475922 , 0.75953578, 1.20493093,\n",
       "       1.25271645, 1.12200118, 1.14894085, 1.04886203, 1.19527227,\n",
       "       1.25939935, 1.06326054, 1.31118602, 1.21595597, 0.84196172,\n",
       "       1.2010451 , 1.14815817, 1.04327934, 1.35801802, 1.06002106,\n",
       "       1.30473196, 1.20399346, 1.18028047, 1.02723511, 0.9085359 ,\n",
       "       0.99729803, 1.02066824, 1.07734774, 0.85433148, 1.1570492 ,\n",
       "       1.16103039, 1.25612259, 1.27236993, 1.08211941, 1.20198046,\n",
       "       1.03984524, 1.27027868, 1.02527276, 0.90008557, 1.3541218 ,\n",
       "       1.30903767, 1.31932472, 1.20560794, 0.40249074, 1.12425529,\n",
       "       1.15160983, 1.14298021, 1.07356334, 1.10174935, 0.75218482,\n",
       "       1.06437087, 1.28865473, 1.18050713, 0.89557054, 1.09386711,\n",
       "       1.24270742, 1.21118097, 1.22659767, 1.0154154 , 1.29322782,\n",
       "       1.17720351, 0.80391837, 1.12939414, 1.31673381, 1.07091483,\n",
       "       1.07488707, 1.30629427, 0.99150269, 0.80420257, 0.82343785,\n",
       "       1.23527187, 0.78838791, 1.00552076, 1.18462487, 1.09696114,\n",
       "       1.0386985 , 1.0493975 , 1.23786624, 0.65461981, 0.85564135,\n",
       "       1.25417584, 1.27456181, 1.08704864, 1.09017201, 1.20548195,\n",
       "       1.1794707 , 1.14580542, 1.11058242, 1.01761556, 1.02950432,\n",
       "       1.29775911, 0.42973436, 1.07113372, 1.26475377, 1.25579674,\n",
       "       1.25685431, 1.29470193, 1.02433892, 1.08658808, 1.19529715,\n",
       "       1.24511204, 1.16513706, 0.96264383, 1.16605806, 1.21337962,\n",
       "       1.02734661, 1.30104562, 1.24400655, 0.98566078, 1.12880296,\n",
       "       1.26473525, 1.24723785, 1.17027422, 1.22994209, 1.25562729,\n",
       "       0.95892248, 0.99430303, 1.29725787, 1.22933482, 1.00378232,\n",
       "       1.06076656, 1.12712745, 1.20726009, 1.10499884, 1.1390561 ,\n",
       "       1.23983839, 1.1513079 , 1.30392024, 1.16850934, 0.95157105,\n",
       "       1.13090631, 1.00418265, 0.4927226 , 0.97782132, 0.7804269 ,\n",
       "       0.93835918, 1.23909304, 1.18420583, 0.97988048, 1.25884887])"
      ]
     },
     "execution_count": 37,
     "metadata": {},
     "output_type": "execute_result"
    }
   ],
   "source": [
    "R"
   ]
  },
  {
   "cell_type": "code",
   "execution_count": 66,
   "metadata": {},
   "outputs": [
    {
     "name": "stdout",
     "output_type": "stream",
     "text": [
      "1.0809486337501877\n",
      "1.6214229506252815\n"
     ]
    },
    {
     "data": {
      "text/plain": [
       "1.3131313131313131"
      ]
     },
     "execution_count": 66,
     "metadata": {},
     "output_type": "execute_result"
    },
    {
     "data": {
      "image/png": "[encoded data removed]",
      "text/plain": [
       "<Figure size 432x288 with 1 Axes>"
      ]
     },
     "metadata": {
      "needs_background": "light"
     },
     "output_type": "display_data"
    }
   ],
   "source": [
    "# SCRATCH\n",
    "\n",
    "# the space of mu values for the skew normal distirbution\n",
    "MU = np.linspace(0, 2, 100)\n",
    "\n",
    "# deep copy\n",
    "data = [r for r in R]\n",
    "print(data[0])\n",
    "\n",
    "# put an outlier\n",
    "data[0] = 1.5*data[0]\n",
    "print(data[0])\n",
    "\n",
    "# the likelihood function for the small set of data, and use MLE estimates for alpha and sigma\n",
    "L_mu = lambda m: np.exp(log_likelihood([alpha_MLE, m, sigma_MLE], data))\n",
    "\n",
    "# the likelihood values L(mu) for every element in MU array\n",
    "likelihood = [L_mu(mu) for mu in MU]\n",
    "\n",
    "# plot likelhood function\n",
    "plt.plot(MU, y)\n",
    "plt.xlabel('mu')\n",
    "plt.ylabel('L(mu)')\n",
    "\n",
    "# max likelihood\n",
    "i_max_likelihood = np.argmax(likelihood)\n",
    "MU[i_max_likelihood]"
   ]
  },
  {
   "cell_type": "code",
   "execution_count": 67,
   "metadata": {},
   "outputs": [
    {
     "data": {
      "text/plain": [
       "1.3131313131313131"
      ]
     },
     "execution_count": 67,
     "metadata": {},
     "output_type": "execute_result"
    },
    {
     "data": {
      "image/png": "[encoded data removed]",
      "text/plain": [
       "<Figure size 432x288 with 1 Axes>"
      ]
     },
     "metadata": {
      "needs_background": "light"
     },
     "output_type": "display_data"
    }
   ],
   "source": [
    "# gaussian prior on A\n",
    "prior = stats.norm.pdf(MU, 1, 0.05)\n",
    "\n",
    "posterior = likelihood*prior\n",
    "plt.plot(MU, posterior/np.max(posterior))\n",
    "plt.plot(MU, prior/np.max(prior))\n",
    "\n",
    "i_max_likelihood = np.argmax(posterior)\n",
    "MU[i_max_likelihood]"
   ]
  },
  {
   "cell_type": "code",
   "execution_count": null,
   "metadata": {},
   "outputs": [],
   "source": []
  }
 ],
 "metadata": {
  "kernelspec": {
   "display_name": "lecture5",
   "language": "python",
   "name": "lecture5"
  },
  "language_info": {
   "codemirror_mode": {
    "name": "ipython",
    "version": 3
   },
   "file_extension": ".py",
   "mimetype": "text/x-python",
   "name": "python",
   "nbconvert_exporter": "python",
   "pygments_lexer": "ipython3",
   "version": "3.6.5"
  }
 },
 "nbformat": 4,
 "nbformat_minor": 2
}
