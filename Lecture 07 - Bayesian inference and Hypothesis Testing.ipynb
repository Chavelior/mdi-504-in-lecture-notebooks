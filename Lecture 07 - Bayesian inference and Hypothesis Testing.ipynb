{
 "cells": [
  {
   "cell_type": "markdown",
   "metadata": {},
   "source": [
    "## Bayesian Inference\n",
    "\n",
    "Before, we saw how to use `scipy.optimize` to calculate maximum likelihood estimates of the parameters to a skew normal distribution describing nanoparticle sizes.\n",
    "\n",
    "Here we'll do something similar, but using Bayesian parameter inference techniques. Remember that Bayesian inference describe parameters with a **probability distribution** instead of an estimate value. This probability distribution represent our uncertainty about the parameter in question. \n",
    "\n",
    "Recall the mneumonic\n",
    "\n",
    "Posterior = Likelihood x Prior\n",
    "\n",
    "Here the Prior distribution represents our initial beliefs about the parameter(s) in question. It's obtained externally from the data. The likelihood compute the probability (or probability density) of the data given parameter values. The Posterior describes the belief on parameters after observing the data.\n",
    "\n",
    "\n",
    "To start, let's import the standard libraries we've been using.\n"
   ]
  },
  {
   "cell_type": "code",
   "execution_count": 2,
   "metadata": {},
   "outputs": [],
   "source": [
    "from scipy import stats, optimize\n",
    "import numpy as np\n",
    "import matplotlib.pyplot as plt"
   ]
  },
  {
   "cell_type": "markdown",
   "metadata": {},
   "source": [
    "Next we'll import the NP radius observations. We'll also recall the ML estimates for the parameters we obtained last time."
   ]
  },
  {
   "cell_type": "code",
   "execution_count": null,
   "metadata": {},
   "outputs": [],
   "source": [
    "R = np.loadtxt('np_radii.txt')\n",
    "\n",
    "alpha_MLE = -5.74661014297758\n",
    "mu_MLE = 1.3090052746628307\n",
    "sigma_MLE = 0.25743751644792884"
   ]
  },
  {
   "cell_type": "markdown",
   "metadata": {},
   "source": [
    "To keep things simple, we'll assume both $\\alpha$ and $\\sigma$ parameters are fixed (and fixed to their ML estimates), and we'll perform our Bayesian analysis on a single parameter $\\mu$. That is, we'll try to define a probability distirbution of what $\\mu$ can be. \n",
    "\n",
    "Let's define the likelihood function, since we'll need it to compute the posteriors."
   ]
  },
  {
   "cell_type": "code",
   "execution_count": null,
   "metadata": {},
   "outputs": [],
   "source": [
    "# Likelihood for the Skew Normal distribution with fixed alpha and sigma.\n",
    "# This is slightly different from last time. Here, we'll allow users to pass\n",
    "# in a whole array of mu values, of each we will calculate the likelihood\n",
    "# value L(mu).\n",
    "def likelihood(mu_arr, R):\n",
    "    # We'll keep alpha and sigma fixed\n",
    "    alpha = alpha_MLE\n",
    "    sigma = sigma_MLE\n",
    "    \n",
    "    # the array of likelihood values we will return. One likelihood for each \n",
    "    # mu value in mu_arr.\n",
    "    ret_val = np.zeros(len(mu_arr))\n",
    "        \n",
    "    # iterate over the different mu values\n",
    "    for i in range(len(mu_arr)):\n",
    "        mu = mu_arr[i]\n",
    "    \n",
    "        # evaluate the skew norm pdf for each element in R\n",
    "        # using the stats.skewnorm.pdf(data, alpha, mu, sigma) function\n",
    "        pdf_vals = stats.skewnorm.pdf(R, alpha, mu, sigma)\n",
    "    \n",
    "        # calculate likelihood componentwise\n",
    "        ret_val[i] = np.prod(pdf_vals)\n",
    "    \n",
    "    # return the likelihood\n",
    "    return ret_val"
   ]
  },
  {
   "cell_type": "markdown",
   "metadata": {},
   "source": [
    "Now we'll define our data set. To illustrate the Bayesian method, we'll \n",
    "\n",
    "1. Consider a small subset of our data (only 5 points) and\n",
    "2. Include an outlier."
   ]
  },
  {
   "cell_type": "code",
   "execution_count": null,
   "metadata": {},
   "outputs": [],
   "source": [
    "# We'll alter some data values, so let's copy R to keep the original values untouched\n",
    "R_copy = np.copy(R[0:100])\n",
    "\n",
    "# put in an outlier\n",
    "print(\"Original value of R_copy[0] = \" + str(R_copy[0]))\n",
    "R_copy[0] = 1.5*R_copy[0]\n",
    "print(\"New value of R_copy[0] = \" + str(R_copy[0]))"
   ]
  },
  {
   "cell_type": "markdown",
   "metadata": {},
   "source": [
    "Now we'll calculate some likelihoods for several values of the parameter $\\mu$, and while we're at it, let's find the maximum likelihood estimate."
   ]
  },
  {
   "cell_type": "code",
   "execution_count": null,
   "metadata": {},
   "outputs": [],
   "source": [
    "# define the set of mu we'll compute on\n",
    "mu_arr = np.linspace(0, 2, 1000)\n",
    "\n",
    "# Calculate the likelihood of each value of mu based on the first 5 data points\n",
    "likelihood_mu = likelihood(mu_arr, R_copy)\n",
    "\n",
    "# let's \"optimize\" by just finding the largest likelihood value \n",
    "# This is different from last lecture, where we used scipy.optimize.minimize\n",
    "\n",
    "# the index of the maximum likelihood  \n",
    "i_max = np.argmax(likelihood_mu)\n",
    "\n",
    "# the corresponding mu value that lead to maximum likelihood\n",
    "mu_MLE_with_outlier = mu_arr[i_max]\n",
    "\n",
    "print(\"ML estimate of mu using 5 data points containing 1 outlier: mu = \" + str(mu_MLE_with_outlier))\n",
    "print(\"True ML estimate: mu = \" + str(mu_MLE))"
   ]
  },
  {
   "cell_type": "markdown",
   "metadata": {},
   "source": [
    "Here we see that the combination of a small data set and a single outlier caused the ML estimate to change.\n",
    "\n",
    "Here's a plot to visualize the likelihood values."
   ]
  },
  {
   "cell_type": "code",
   "execution_count": null,
   "metadata": {},
   "outputs": [],
   "source": [
    "# Let's plot the likelihood function\n",
    "plt.plot(mu_arr, likelihood_mu)\n",
    "plt.xlabel('mu')\n",
    "plt.ylabel('L(mu)')\n",
    "\n",
    "# Let's indicate the true value as well\n",
    "plt.axvline(x=mu_MLE, color='red')"
   ]
  },
  {
   "cell_type": "markdown",
   "metadata": {},
   "source": [
    "The perturbation to the data means that the true value of $mu$ gets a really low likelihood score.\n",
    "\n",
    "Now let's try to do the Bayesian inference. Recall to do this, we need a prior distirbution on $mu$. Suppose you read an article to suggest the mean NP size was $1 \\pm 0.05$. This isn't quite exactly what you want (since mean particle size and the $\\mu$ parameter to a skew normal distribution are different things, but are close when there isn't much skew in the distribution). But it's a start. So let's use that.\n"
   ]
  },
  {
   "cell_type": "code",
   "execution_count": null,
   "metadata": {},
   "outputs": [],
   "source": [
    "# prior distribution on mu ~ N(1, 0.05^2)\n",
    "prior_mean = 1\n",
    "prior_std = 0.05\n",
    "prior = stats.norm.pdf(mu_arr, prior_mean, prior_std)\n",
    "\n",
    "# plot the prior distribution\n",
    "plt.plot(mu_arr, prior)\n",
    "plt.xlabel('mu')\n",
    "plt.ylabel('Prior')\n",
    "plt.title('Prior distribution')\n"
   ]
  },
  {
   "cell_type": "markdown",
   "metadata": {},
   "source": [
    "Note that\n",
    "1. The mean estimate of $\\mu = 1$ is pretty bad (compared to the true value of 1.3, and the 1.5 value obtained in small data including outlier case).\n",
    "2. To make things worse, the value of $0.05$ is relatively small - suggesting a high degree of confidence in our prior.\n",
    "\n",
    "What does the including the data (calculating the posterior) do to fix things?"
   ]
  },
  {
   "cell_type": "code",
   "execution_count": null,
   "metadata": {},
   "outputs": [],
   "source": [
    "# posterior distribution is proportional to likelihood * prior\n",
    "posterior = likelihood_mu*prior\n",
    "\n",
    "# plot the posterior distribution (unnormalized)\n",
    "plt.plot(mu_arr, posterior)\n",
    "plt.xlabel('mu')\n",
    "plt.ylabel('Posterior')\n",
    "plt.title('Posterior distribution (unnormalized)')\n",
    "\n",
    "# Let's indicate the true value as well\n",
    "plt.axvline(x=mu_MLE, color='red')"
   ]
  },
  {
   "cell_type": "code",
   "execution_count": null,
   "metadata": {},
   "outputs": [],
   "source": [
    "# Let's summarize the posterior distribution\n",
    "\n",
    "# N.B. We can't use np.mean, np.variance. These work on data samples. Here we have pdf values, so we'll \n",
    "# calculate using definitions\n",
    "\n",
    "# quick-and-dirty normalization - numerically calculate the area over the domain and divide it out\n",
    "# so that we have an area of 1 over domain\n",
    "dx = mu_arr[1] - mu_arr[0]\n",
    "area = np.sum(posterior*dx)\n",
    "posterior_normalized = posterior/area\n",
    "\n",
    "# mean\n",
    "mean_mu_posterior = np.sum(mu_arr*posterior_normalized*dx)\n",
    "print(\"posterior mean = \" + str(mean_mu_posterior))\n",
    "\n",
    "# variance\n",
    "var_mu_posterior = np.sum((mu_arr- mean_mu_posterior)**2*posterior_normalized*dx)\n",
    "print(\"posterior variance = \" + str(var_mu_posterior))\n",
    "\n",
    "# std\n",
    "print(\"posterior std = \" + str(np.sqrt(var_mu_posterior)))"
   ]
  },
  {
   "cell_type": "markdown",
   "metadata": {},
   "source": [
    "The posterior mean of $\\mu$ is very close to the true value. Note that our posterior uncertainty went down too (compare std values between prior and posterior). To be fair, this was a coincidence to some degree. To see this, play around with different prior distributions. In particular, consider prior means less-than, equal-to, and greater-than the ML estimate."
   ]
  },
  {
   "cell_type": "markdown",
   "metadata": {},
   "source": [
    "While the posterior may look Normal, it's important to realize it isn't. To test this, we can estimate the **skewness** summary statistic:\n",
    "\n",
    "$$Skew(X) = \\mathbb E[(X - \\bar X)^3].$$\n",
    "\n",
    "A normal distribution has 0 skew - it is symmetric about its mean. "
   ]
  },
  {
   "cell_type": "code",
   "execution_count": null,
   "metadata": {},
   "outputs": [],
   "source": [
    "# skewness\n",
    "skew_mu_posterior = np.sum((mu_arr - mean_mu_posterior)**3*posterior_normalized*dx)\n",
    "print(\"Posterior skew = \" + str(np.cbrt(skew_mu_posterior)))\n",
    "\n",
    "# skewness of prior\n",
    "skew_mu_prior = np.sum((mu_arr - 1)**3*prior*dx)\n",
    "print(\"Prior skew = \" + str(np.cbrt(skew_mu_prior)))"
   ]
  },
  {
   "cell_type": "markdown",
   "metadata": {},
   "source": [
    "What can you say about the skewness of the posterior vs. the prior (which is a true Normal distribution)?\n",
    "\n",
    "\n",
    "### Further experiments:\n",
    "\n",
    "How does the mean estimate of the posterior (aka the MAP estimator) change as you increase the amount of data?"
   ]
  },
  {
   "cell_type": "markdown",
   "metadata": {},
   "source": [
    "## Hypothesis Testing\n",
    "\n",
    "\n"
   ]
  },
  {
   "cell_type": "code",
   "execution_count": 3,
   "metadata": {},
   "outputs": [
    {
     "data": {
      "text/plain": [
       "(array([ 1.,  1.,  5.,  7., 60., 95., 38., 25.,  5.,  3.]),\n",
       " array([345.294, 392.93 , 440.566, 488.202, 535.838, 583.474, 631.11 ,\n",
       "        678.746, 726.382, 774.018, 821.654]),\n",
       " <a list of 10 Patch objects>)"
      ]
     },
     "execution_count": 3,
     "metadata": {},
     "output_type": "execute_result"
    },
    {
     "data": {
      "image/png": "[encoded data removed]",
      "text/plain": [
       "<Figure size 432x288 with 1 Axes>"
      ]
     },
     "metadata": {
      "needs_background": "light"
     },
     "output_type": "display_data"
    }
   ],
   "source": [
    "data = np.loadtxt('JAHANMI2.txt', skiprows=1)\n",
    "Y = data[:, 4]\n",
    "B = data[:,13]\n",
    "I_B1 = (B==1)\n",
    "Y_given_B1 = Y[I_B1]\n",
    "I_B2 = (B==2)\n",
    "Y_given_B2 = Y[I_B2]\n",
    "\n",
    "# plot histograms of both\n",
    "plt.hist(Y_given_B1)\n",
    "plt.hist(Y_given_B2)"
   ]
  },
  {
   "cell_type": "markdown",
   "metadata": {},
   "source": [
    "### F-test to compare sample variances between two populations."
   ]
  },
  {
   "cell_type": "code",
   "execution_count": 4,
   "metadata": {},
   "outputs": [
    {
     "data": {
      "text/plain": [
       "[<matplotlib.lines.Line2D at 0x12100d7b8>]"
      ]
     },
     "execution_count": 4,
     "metadata": {},
     "output_type": "execute_result"
    },
    {
     "data": {
      "image/png": "[encoded data removed]",
      "text/plain": [
       "<Figure size 432x288 with 1 Axes>"
      ]
     },
     "metadata": {
      "needs_background": "light"
     },
     "output_type": "display_data"
    }
   ],
   "source": [
    "t = np.linspace(0.01, 2, 100)\n",
    "\n",
    "# Degrees of freedom = # data points - 1\n",
    "nu_1 = len(Y_given_B1) - 1\n",
    "nu_2 = len(Y_given_B2) - 1\n",
    "\n",
    "y = stats.f.pdf(t, nu_1, nu_2)\n",
    "plt.plot(t, y)"
   ]
  },
  {
   "cell_type": "code",
   "execution_count": 6,
   "metadata": {},
   "outputs": [
    {
     "name": "stdout",
     "output_type": "stream",
     "text": [
      "0.18519146513473972\n",
      "Null hypothesis retained. Sample variances are not statistically different\n"
     ]
    }
   ],
   "source": [
    "var1 = np.var(Y_given_B1)\n",
    "var2 = np.var(Y_given_B2)\n",
    "\n",
    "# Tests if two variances are the same: F-test\n",
    "T = var1/var2\n",
    "\n",
    "# calculate p value (one-sided right tail)\n",
    "p_value = 1 - stats.f.cdf(T, nu_1, nu_2)\n",
    "\n",
    "print(p_value)\n",
    "\n",
    "# Reject or retain null hypothesis\n",
    "if(p_value < 0.05):\n",
    "    print(\"Null hypothesis rejected. Sample variances are statistically different\")\n",
    "else:\n",
    "    print(\"Null hypothesis retained. Sample variances are not statistically different\")\n",
    "\n"
   ]
  },
  {
   "cell_type": "markdown",
   "metadata": {},
   "source": [
    "### t-test to compare sample means between two populations.\n"
   ]
  },
  {
   "cell_type": "code",
   "execution_count": 7,
   "metadata": {},
   "outputs": [
    {
     "data": {
      "text/plain": [
       "[<matplotlib.lines.Line2D at 0x12107e940>]"
      ]
     },
     "execution_count": 7,
     "metadata": {},
     "output_type": "execute_result"
    },
    {
     "data": {
      "image/png": "[encoded data removed]",
      "text/plain": [
       "<Figure size 432x288 with 1 Axes>"
      ]
     },
     "metadata": {
      "needs_background": "light"
     },
     "output_type": "display_data"
    }
   ],
   "source": [
    "# Tests if two means are the same: t-test\n",
    "\n",
    "# plot the t-distribution\n",
    "mu1 = np.mean(Y_given_B1)\n",
    "mu2 = np.mean(Y_given_B2)\n",
    "\n",
    "n1 = len(Y_given_B1)\n",
    "n2 = len(Y_given_B2)\n",
    "\n",
    "nu = n1 + n2 - 2\n",
    "\n",
    "t = np.linspace(-5, 5, 100)\n",
    "y = stats.t.pdf(t, nu)\n",
    "plt.plot(t, y)"
   ]
  },
  {
   "cell_type": "code",
   "execution_count": 10,
   "metadata": {},
   "outputs": [
    {
     "name": "stdout",
     "output_type": "stream",
     "text": [
      "2.5166154703799334e-35\n",
      "Null hypothesis rejected. Sample means are statistically different\n"
     ]
    }
   ],
   "source": [
    "# Tests if two means are the same: t-test\n",
    "\n",
    "T = (mu1 - mu2)/np.sqrt(var1/n1 + var2/n2)\n",
    "\n",
    "# two-sided test\n",
    "p_value = 1 - stats.t.cdf(T, nu) + stats.t.cdf(-T, nu)\n",
    "\n",
    "print(p_value)\n",
    "\n",
    "# Reject or retain null hypothesis\n",
    "if(p_value < 0.05):\n",
    "    print(\"Null hypothesis rejected. Sample means are statistically different\")\n",
    "else:\n",
    "    print(\"Null hypothesis retained. Sample means are not statistically different\")\n"
   ]
  },
  {
   "cell_type": "code",
   "execution_count": null,
   "metadata": {},
   "outputs": [],
   "source": []
  }
 ],
 "metadata": {
  "kernelspec": {
   "display_name": "lecture5",
   "language": "python",
   "name": "lecture5"
  },
  "language_info": {
   "codemirror_mode": {
    "name": "ipython",
    "version": 3
   },
   "file_extension": ".py",
   "mimetype": "text/x-python",
   "name": "python",
   "nbconvert_exporter": "python",
   "pygments_lexer": "ipython3",
   "version": "3.6.5"
  }
 },
 "nbformat": 4,
 "nbformat_minor": 2
}
