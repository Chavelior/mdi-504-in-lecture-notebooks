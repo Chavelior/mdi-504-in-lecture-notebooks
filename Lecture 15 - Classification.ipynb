{
 "cells": [
  {
   "cell_type": "markdown",
   "metadata": {},
   "source": [
    "# k-nearest neighbors"
   ]
  },
  {
   "cell_type": "code",
   "execution_count": null,
   "metadata": {},
   "outputs": [],
   "source": [
    "import numpy as np\n",
    "import matplotlib.pyplot as plt\n",
    "\n",
    "# ----- make nice figures -----\n",
    "import matplotlib as mpl\n",
    "mpl.rcParams['figure.dpi']= 150\n",
    "# -----------------------------\n",
    "\n",
    "COLORS = ['#F00D2C', '#553C67']\n",
    "\n",
    "# load data from text\n",
    "data = np.loadtxt('lec15.txt')\n",
    "num_points = data.shape[0]\n",
    "\n",
    "x = data[:, 0:2]\n",
    "c = data[:, 2]\n",
    "\n",
    "# Split into training, validation and testing sets\n",
    "num_train = int(num_points*0.8*0.8)\n",
    "num_valid = int(num_points*0.8*0.2)\n",
    "num_test = num_points - num_train - num_valid\n",
    "\n",
    "x_train = x[0:num_train]\n",
    "c_train = c[0:num_train]\n",
    "    \n",
    "x_valid = x[num_train:num_train+num_valid]\n",
    "c_valid = c[num_train:num_train+num_valid]\n",
    "    \n",
    "x_test = x[num_train+num_valid:]\n",
    "c_test = c[num_train+num_valid:]\n",
    "\n",
    "# Print out how big each set is\n",
    "print(\"  Number training points = \" + str(num_train))\n",
    "print(\"Number validation points = \" + str(num_valid))\n",
    "print(\"   Number testing points = \" + str(num_test))\n",
    "print(\"            Total points = \" + str(num_points))"
   ]
  },
  {
   "cell_type": "code",
   "execution_count": null,
   "metadata": {},
   "outputs": [],
   "source": [
    "# turn 0,1,2 to color strings just for plotting\n",
    "c = []\n",
    "for i in range(num_points):\n",
    "    c.append(COLORS[int(c_num[i])])\n",
    "    \n",
    "plt.scatter(x[:,0], x[:,1], marker='^', c=c)\n",
    "plt.xlabel('X1')\n",
    "plt.ylabel('X2')\n",
    "plt.grid()"
   ]
  },
  {
   "cell_type": "markdown",
   "metadata": {},
   "source": [
    "Let's try to use k-nn to predict the validation set, trying k = 3."
   ]
  },
  {
   "cell_type": "code",
   "execution_count": null,
   "metadata": {},
   "outputs": [],
   "source": [
    "# We'll use the mode statistic to do majority vote\n",
    "from scipy.stats import mode\n",
    "\n",
    "k = 3\n",
    "\n",
    "def nearest_neighbors(x, x_train, k):\n",
    "    # compute the distances from x to each point in x_train\n",
    "    distances = np.zeros(len(x_train))\n",
    "    for i, xt in enumerate(x_train):\n",
    "        distances[i] = np.linalg.norm(x-xt)\n",
    "        \n",
    "    # find the k nearest points by sorting distances\n",
    "    sorted_indices = np.argsort(distances)\n",
    "    top_k = sorted_indices[0:k]\n",
    "    \n",
    "    return top_k\n",
    "\n",
    "c_valid_predicted = np.zeros(len(c_valid))\n",
    "for i, xv in enumerate(x_valid):\n",
    "    # find the k nearest neighbors for validation point xv\n",
    "    nn = nearest_neighbors(xv, x_train, k)\n",
    "    \n",
    "    # majority vote\n",
    "    c_valid_predicted[i] = mode(c_train[nn])[0]\n",
    "\n",
    "print(c_valid)\n",
    "print(c_valid_predicted)"
   ]
  },
  {
   "cell_type": "code",
   "execution_count": null,
   "metadata": {},
   "outputs": [],
   "source": [
    "# Classify all the points in the plane\n",
    "# You could ignore this if you wanted\n",
    "x1_plot = np.linspace(0, 1, 100)\n",
    "x2_plot = np.linspace(0, 1.3, 100)\n",
    "# Form all combinations from x1_plot and x2_plot\n",
    "xx1, xx2 = np.meshgrid(x1_plot, x2_plot)\n",
    "# Flatten xx1 and xx2 to a list of points\n",
    "x_plot = np.array([xx1.ravel(), xx2.ravel()]).transpose()\n",
    "# classify each point\n",
    "c_plot = np.zeros(len(xx1.ravel()))\n",
    "for i, xv in enumerate(x_plot):\n",
    "    nn = nearest_neighbors(xv, x_train, k)\n",
    "    c_plot[i] = mode(c_train[nn])[0]\n",
    "# put back into matrix\n",
    "c_plot = c_plot.reshape(xx1.shape)\n",
    "# plot classification at each point as a colored region\n",
    "from matplotlib.colors import ListedColormap\n",
    "plt.pcolormesh(xx1, xx2, c_plot, cmap=ListedColormap(COLORS))\n",
    "plt.scatter(x[:,0], x[:,1], marker='^', edgecolors='k', linewidth=0.5, c=c)\n",
    "plt.xlabel('X1')\n",
    "plt.ylabel('X2')"
   ]
  },
  {
   "cell_type": "code",
   "execution_count": null,
   "metadata": {},
   "outputs": [],
   "source": [
    "# Accuracy\n",
    "num_correct = np.sum(c_valid == c_valid_predicted)\n",
    "accuracy = num_correct / num_valid\n",
    "print(\"Classification Accuracy (Validation) = \" + str(accuracy))"
   ]
  },
  {
   "cell_type": "code",
   "execution_count": null,
   "metadata": {},
   "outputs": [],
   "source": [
    "# Accuracy\n",
    "c_valid_dummy = np.ones(len(c_valid))\n",
    "num_correct = np.sum(c_valid == c_valid_dummy)\n",
    "accuracy = num_correct / num_valid\n",
    "print(\"Classification Accuracy (Validation) = \" + str(accuracy))"
   ]
  },
  {
   "cell_type": "markdown",
   "metadata": {},
   "source": [
    "## Precision and Recall"
   ]
  },
  {
   "cell_type": "code",
   "execution_count": null,
   "metadata": {},
   "outputs": [],
   "source": [
    "# Calculate True positive, False positives and False negatives\n",
    "TP = np.sum(np.logical_and(c_valid_predicted == 1, c_valid == 1))\n",
    "FP = np.sum(np.logical_and(c_valid_predicted == 1, c_valid == 0))\n",
    "FN = np.sum(np.logical_and(c_valid_predicted == 0, c_valid == 1))\n",
    "\n",
    "# Precision and recall\n",
    "precision_valid = TP/(TP + FP)\n",
    "recall_valid = TP / (TP + FN)\n",
    "\n",
    "print(\"Precision (Validation) = \" + str(precision_valid))\n",
    "print(\"Recall (Validation) = \" + str(recall_valid))\n",
    "\n",
    "F1 = 2/(1/precision_valid + 1/recall_valid)\n",
    "print(\"F1 (Validation) = \" + str(F1))"
   ]
  },
  {
   "cell_type": "code",
   "execution_count": null,
   "metadata": {},
   "outputs": [],
   "source": [
    "# Calculate True positive, False positives and False negatives\n",
    "TP = np.sum(np.logical_and(c_valid_dummy == 1, c_valid == 1))\n",
    "FP = np.sum(np.logical_and(c_valid_dummy == 1, c_valid == 0))\n",
    "FN = np.sum(np.logical_and(c_valid_dummy == 0, c_valid == 1))\n",
    "\n",
    "# Precision and recall\n",
    "precision_dummy = TP / (TP + FP)\n",
    "recall_dummy = TP / (TP + FN)\n",
    "\n",
    "print(\"Precision (Validation) = \" + str(precision_dummy))\n",
    "print(\"Recall (Validation) = \" + str(recall_dummy))\n",
    "\n",
    "F1 = 2/(1/precision_dummy + 1/recall_dummy)\n",
    "print(\"F1 (Validation) = \" + str(F1))"
   ]
  },
  {
   "cell_type": "code",
   "execution_count": null,
   "metadata": {},
   "outputs": [],
   "source": [
    "# F-beta where beta = 2\n",
    "beta = 2\n",
    "F2_valid = (1+beta**2) *(precision_valid*recall_valid)/ (beta**2 * precision_valid + recall_dummy)\n",
    "F2_dummy = (1+beta**2) *(precision_dummy*recall_dummy)/ (beta**2 * precision_dummy + recall_dummy)\n",
    "\n",
    "print(\"        F2 = \" + str(F2_valid))\n",
    "print(\"F2 (Dummy) = \" + str(F2_dummy))"
   ]
  },
  {
   "cell_type": "markdown",
   "metadata": {},
   "source": [
    "# Logistic Regression\n"
   ]
  },
  {
   "cell_type": "code",
   "execution_count": null,
   "metadata": {},
   "outputs": [],
   "source": [
    "import itertools\n",
    "import scipy\n",
    "\n",
    "def form_design_matrix(X, k = 1):\n",
    "    num_rows = X.shape[0]\n",
    "    num_cols = X.shape[1]\n",
    "    \n",
    "    # Add a column of 1's to the set of variables\n",
    "    XX = np.concatenate((np.ones([num_rows, 1]), X), axis=1)\n",
    "    \n",
    "    # form the list of all multivariable monomials with total degree = 1\n",
    "    combinations = itertools.combinations_with_replacement(range(num_cols+1), k)\n",
    "    # the number of such monomials\n",
    "    num_combinations = int(scipy.special.binom(num_cols+1 + k - 1, k))\n",
    "    Phi_T = np.zeros([num_combinations, num_rows])\n",
    "    \n",
    "    # iterate over all monomials\n",
    "    for j, exp in enumerate(combinations):\n",
    "        # iterate over all data points\n",
    "        for i in range(num_rows):\n",
    "            # apply the j-th monomial\n",
    "            Phi_T[j, i] = 1\n",
    "            for l in range(k):\n",
    "                Phi_T[j, i] = Phi_T[j, i]*XX[i, exp[l]]\n",
    "            Phi_T[j,i] = Phi_T[j,i]\n",
    "\n",
    "    Phi = np.transpose(Phi_T)\n",
    "    \n",
    "    return Phi\n"
   ]
  },
  {
   "cell_type": "code",
   "execution_count": null,
   "metadata": {},
   "outputs": [],
   "source": [
    "# we'll use just linear terms\n",
    "n = 1\n",
    "Phi_train = form_design_matrix(x_train, n)\n",
    "Phi_valid = form_design_matrix(x_valid, n)\n",
    "\n",
    "# z-normalize columns of Phi\n",
    "mu_Phi = np.mean(Phi_train)\n",
    "sig_Phi = np.std(Phi_train)\n",
    "\n",
    "Phi_train = (Phi_train - mu_Phi)/sig_Phi\n",
    "Phi_valid = (Phi_valid - mu_Phi)/sig_Phi\n",
    "\n",
    "# train logistic regression model.\n",
    "# We'll use sklearn.linear_model.LogisticRegression \n",
    "# to avoid having to write our own MLE optimization\n",
    "from sklearn.linear_model import LogisticRegression\n",
    "model = LogisticRegression(fit_intercept = False)\n",
    "model.fit(Phi_train, c_train)\n",
    "\n",
    "# predict validation data\n",
    "c_valid_predicted = model.predict(Phi_valid)\n",
    "print(c_valid_predicted)\n",
    "\n",
    "print(c_valid)\n",
    "\n",
    "# Calculate True positive, False positives and False negatives\n",
    "TP = np.sum(np.logical_and(c_valid_predicted == 1, c_valid == 1))\n",
    "FP = np.sum(np.logical_and(c_valid_predicted == 1, c_valid == 0))\n",
    "FN = np.sum(np.logical_and(c_valid_predicted == 0, c_valid == 1))\n",
    "\n",
    "# Precision and recall\n",
    "precision = TP/(TP + FP)\n",
    "recall = TP / (TP + FN)\n",
    "\n",
    "print(\"Precision (Validation) = \" + str(precision))\n",
    "print(\"Recall (Validation) = \" + str(recall))\n",
    "\n",
    "F1 = 2/(1/precision + 1/recall)\n",
    "print(\"F1 (Validation) = \" + str(F1))"
   ]
  },
  {
   "cell_type": "code",
   "execution_count": null,
   "metadata": {},
   "outputs": [],
   "source": [
    "# Color plot\n",
    "x1_plot = np.linspace(0, 1, 500)\n",
    "x2_plot = np.linspace(0, 1.3, 500)\n",
    "xx1, xx2 = np.meshgrid(x1_plot, x2_plot)\n",
    "\n",
    "x_plot = np.array([xx1.ravel(), xx2.ravel()]).transpose()\n",
    "Phi_plot = form_design_matrix(x_plot, n)\n",
    "Phi_plot = (Phi_plot-mu_Phi)/sig_Phi\n",
    "c_plot = model.predict(Phi_plot)\n",
    "c_plot = c_plot.reshape(xx1.shape)\n",
    "\n",
    "from matplotlib.colors import ListedColormap\n",
    "plt.pcolormesh(xx1, xx2, c_plot, cmap=ListedColormap(COLORS))\n",
    "plt.scatter(x[:,0], x[:,1], marker='^', edgecolors='k', linewidth=0.5, c=c)\n",
    "plt.xlabel('X1')\n",
    "plt.ylabel('X2')"
   ]
  }
 ],
 "metadata": {
  "kernelspec": {
   "display_name": "Python 3",
   "language": "python",
   "name": "python3"
  },
  "language_info": {
   "codemirror_mode": {
    "name": "ipython",
    "version": 3
   },
   "file_extension": ".py",
   "mimetype": "text/x-python",
   "name": "python",
   "nbconvert_exporter": "python",
   "pygments_lexer": "ipython3",
   "version": "3.6.5"
  }
 },
 "nbformat": 4,
 "nbformat_minor": 2
}
